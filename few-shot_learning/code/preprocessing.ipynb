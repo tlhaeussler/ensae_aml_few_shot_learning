{
 "cells": [
  {
   "cell_type": "code",
   "execution_count": 37,
   "metadata": {},
   "outputs": [],
   "source": [
    "# import all the necessary libraries\n",
    "# make sure that you have installed all of them\n",
    "# if not, please have a look at the README.md and the requirements.txt file\n",
    "\n",
    "import os\n",
    "import numpy as np\n",
    "from matplotlib import pyplot as plt\n",
    "from tensorflow.keras.models import Model\n",
    "from tensorflow.keras.layers import Layer, Conv2D, Dense, MaxPool2D, Input, Flatten\n",
    "import tensorflow as tf\n",
    "from importlib import reload\n",
    "from PIL import Image"
   ]
  },
  {
   "attachments": {},
   "cell_type": "markdown",
   "metadata": {},
   "source": [
    "# Preprocessing"
   ]
  },
  {
   "cell_type": "code",
   "execution_count": 38,
   "metadata": {},
   "outputs": [
    {
     "name": "stdout",
     "output_type": "stream",
     "text": [
      "['data_10classes/carpets_n03998194', 'data_10classes/dogs_n02089867', 'data_10classes/ipods_n03584254', 'data_10classes/oranges_n07747607', 'data_10classes/pans_n04596742', 'data_10classes/toucans_n01843383']\n"
     ]
    }
   ],
   "source": [
    "# set the amount of classes as well as support and query pictures\n",
    "n_classes = 6\n",
    "n_support = 6\n",
    "n_query = 8\n",
    "n_images = n_support + n_query + 10 \n",
    "\n",
    "# define the class names for the 6 classes and add them to a list \n",
    "class_names = ['carpets_n03998194', 'dogs_n02089867', 'ipods_n03584254', 'oranges_n07747607', 'pans_n04596742', 'toucans_n01843383']\n",
    "CLASS_LIST = []\n",
    "\n",
    "# create a list of class directories based on class names\n",
    "for i in range(0,n_classes): \n",
    "    CLASS_LIST.append(os.path.join(\"data_10classes\", class_names[i]))\n",
    "print(CLASS_LIST)"
   ]
  },
  {
   "cell_type": "code",
   "execution_count": 39,
   "metadata": {},
   "outputs": [],
   "source": [
    "# take n_images images from all of the previously specified classes\n",
    "classes = []\n",
    "for i in range(0,n_classes):\n",
    "    classes.append(tf.data.Dataset.list_files(CLASS_LIST[i] + \"/*.JPEG\").take(n_images))"
   ]
  },
  {
   "cell_type": "code",
   "execution_count": 40,
   "metadata": {},
   "outputs": [
    {
     "name": "stderr",
     "output_type": "stream",
     "text": [
      "2024-01-19 16:17:04.093340: I tensorflow/core/common_runtime/executor.cc:1197] [/device:CPU:0] (DEBUG INFO) Executor start aborting (this does not indicate an error and you can ignore this message): INVALID_ARGUMENT: You must feed a value for placeholder tensor 'Placeholder/_0' with dtype string and shape [600]\n",
      "\t [[{{node Placeholder/_0}}]]\n",
      "2024-01-19 16:17:04.093558: I tensorflow/core/common_runtime/executor.cc:1197] [/device:CPU:0] (DEBUG INFO) Executor start aborting (this does not indicate an error and you can ignore this message): INVALID_ARGUMENT: You must feed a value for placeholder tensor 'Placeholder/_0' with dtype string and shape [600]\n",
      "\t [[{{node Placeholder/_0}}]]\n",
      "2024-01-19 16:17:04.137867: I tensorflow/core/common_runtime/executor.cc:1197] [/device:CPU:0] (DEBUG INFO) Executor start aborting (this does not indicate an error and you can ignore this message): INVALID_ARGUMENT: You must feed a value for placeholder tensor 'Placeholder/_0' with dtype string and shape [600]\n",
      "\t [[{{node Placeholder/_0}}]]\n",
      "2024-01-19 16:17:04.138067: I tensorflow/core/common_runtime/executor.cc:1197] [/device:CPU:0] (DEBUG INFO) Executor start aborting (this does not indicate an error and you can ignore this message): INVALID_ARGUMENT: You must feed a value for placeholder tensor 'Placeholder/_0' with dtype string and shape [600]\n",
      "\t [[{{node Placeholder/_0}}]]\n",
      "2024-01-19 16:17:04.193625: I tensorflow/core/common_runtime/executor.cc:1197] [/device:CPU:0] (DEBUG INFO) Executor start aborting (this does not indicate an error and you can ignore this message): INVALID_ARGUMENT: You must feed a value for placeholder tensor 'Placeholder/_0' with dtype string and shape [600]\n",
      "\t [[{{node Placeholder/_0}}]]\n",
      "2024-01-19 16:17:04.193810: I tensorflow/core/common_runtime/executor.cc:1197] [/device:CPU:0] (DEBUG INFO) Executor start aborting (this does not indicate an error and you can ignore this message): INVALID_ARGUMENT: You must feed a value for placeholder tensor 'Placeholder/_0' with dtype string and shape [600]\n",
      "\t [[{{node Placeholder/_0}}]]\n",
      "2024-01-19 16:17:04.233216: I tensorflow/core/common_runtime/executor.cc:1197] [/device:CPU:0] (DEBUG INFO) Executor start aborting (this does not indicate an error and you can ignore this message): INVALID_ARGUMENT: You must feed a value for placeholder tensor 'Placeholder/_0' with dtype string and shape [600]\n",
      "\t [[{{node Placeholder/_0}}]]\n",
      "2024-01-19 16:17:04.233402: I tensorflow/core/common_runtime/executor.cc:1197] [/device:CPU:0] (DEBUG INFO) Executor start aborting (this does not indicate an error and you can ignore this message): INVALID_ARGUMENT: You must feed a value for placeholder tensor 'Placeholder/_0' with dtype string and shape [600]\n",
      "\t [[{{node Placeholder/_0}}]]\n",
      "2024-01-19 16:17:04.268188: I tensorflow/core/common_runtime/executor.cc:1197] [/device:CPU:0] (DEBUG INFO) Executor start aborting (this does not indicate an error and you can ignore this message): INVALID_ARGUMENT: You must feed a value for placeholder tensor 'Placeholder/_0' with dtype string and shape [600]\n",
      "\t [[{{node Placeholder/_0}}]]\n",
      "2024-01-19 16:17:04.268372: I tensorflow/core/common_runtime/executor.cc:1197] [/device:CPU:0] (DEBUG INFO) Executor start aborting (this does not indicate an error and you can ignore this message): INVALID_ARGUMENT: You must feed a value for placeholder tensor 'Placeholder/_0' with dtype string and shape [600]\n",
      "\t [[{{node Placeholder/_0}}]]\n"
     ]
    },
    {
     "name": "stdout",
     "output_type": "stream",
     "text": [
      "24\n"
     ]
    },
    {
     "name": "stderr",
     "output_type": "stream",
     "text": [
      "2024-01-19 16:17:04.304524: I tensorflow/core/common_runtime/executor.cc:1197] [/device:CPU:0] (DEBUG INFO) Executor start aborting (this does not indicate an error and you can ignore this message): INVALID_ARGUMENT: You must feed a value for placeholder tensor 'Placeholder/_0' with dtype string and shape [600]\n",
      "\t [[{{node Placeholder/_0}}]]\n",
      "2024-01-19 16:17:04.304707: I tensorflow/core/common_runtime/executor.cc:1197] [/device:CPU:0] (DEBUG INFO) Executor start aborting (this does not indicate an error and you can ignore this message): INVALID_ARGUMENT: You must feed a value for placeholder tensor 'Placeholder/_0' with dtype string and shape [600]\n",
      "\t [[{{node Placeholder/_0}}]]\n"
     ]
    }
   ],
   "source": [
    "# the image_net data contains some images with only one channel (leading to problems with the training)\n",
    "# we filter those out here\n",
    "\n",
    "# define the size of the pictures (here: 105 x 105 pixels)\n",
    "IMG_SIZE = 105\n",
    "\n",
    "# define the preprocessing\n",
    "def preprocess(file_path: str, img_size: int = IMG_SIZE) -> np.ndarray:\n",
    "    # 1. read the file\n",
    "    byte_img = tf.io.read_file(file_path)\n",
    "    # 2. decode the jpeg\n",
    "    img = tf.io.decode_jpeg(byte_img)\n",
    "    # 3. resize the picture to the size that has been set on top of this cell\n",
    "    img = tf.image.resize(img, [img_size, img_size])\n",
    "    # 4. normalize the values so that they are between 0 and 1\n",
    "    img = img / 255.0 \n",
    "\n",
    "    return img\n",
    "\n",
    "# set up a list that contains only images with 3 color channels\n",
    "filtered_classes = []\n",
    "# count the number of pictures that are sorted out\n",
    "faulty = 0\n",
    "\n",
    "for class_i in classes:\n",
    "    # call the preprocessing that is defined above\n",
    "    class_i = class_i.map(preprocess)\n",
    "    class_list = list(class_i)\n",
    "    # select those array that have the correct shape of (105, 105, 3)\n",
    "    filtered_list = [array for array in class_list if array.shape == (105, 105, 3)]\n",
    "    # add them to the filtered list\n",
    "    filtered_classes.append(filtered_list)\n",
    "    # make sure that faulty is the maximum over all classes\n",
    "    if (n_images - len(filtered_list)) > faulty: \n",
    "        faulty = (n_images - len(filtered_list))\n",
    "\n",
    "# calculate the new amount of images and print it\n",
    "n_images_new = n_images - faulty\n",
    "print(n_images_new)\n",
    "\n",
    "# select n_images_new pictures from each filtered class\n",
    "# example: if one class contains 98 images after filtering and another one 96\n",
    "# make sure that all classes contain 96 images in the end as it needs to be the same for all classes\n",
    "class_res = []\n",
    "for filtered_class in filtered_classes:\n",
    "    filtered_class = filtered_class[0:n_images_new]\n",
    "    class_res.append(np.concatenate(filtered_class).reshape(n_images_new, IMG_SIZE, IMG_SIZE, 3))"
   ]
  },
  {
   "cell_type": "code",
   "execution_count": 41,
   "metadata": {},
   "outputs": [
    {
     "name": "stdout",
     "output_type": "stream",
     "text": [
      "['query_0', 'query_1', 'query_2', 'query_3', 'query_4', 'query_5', 'query_6', 'query_7']\n",
      "['support_0', 'support_1', 'support_2', 'support_3', 'support_4', 'support_5']\n"
     ]
    },
    {
     "data": {
      "text/plain": [
       "105"
      ]
     },
     "execution_count": 41,
     "metadata": {},
     "output_type": "execute_result"
    }
   ],
   "source": [
    "# define and print the names that are later used to create the folders containing the query and support images\n",
    "query_names = []\n",
    "for j in range(0, n_query): \n",
    "    query_names.append('query_' + str(j))\n",
    "\n",
    "support_names = []\n",
    "for k in range(0, n_support): \n",
    "    support_names.append('support_' + str(k))\n",
    "    \n",
    "print(query_names)\n",
    "print(support_names)"
   ]
  },
  {
   "cell_type": "code",
   "execution_count": 43,
   "metadata": {},
   "outputs": [],
   "source": [
    "# define the output folders and save the images inside\n",
    "\n",
    "for i in range(0, n_classes):\n",
    "\n",
    "    # to save the query images\n",
    "    for j in range(0, n_query):\n",
    "        # define the name of the folder\n",
    "        folder_ij = os.path.join('preprocessed_data6', class_names[i], query_names[j])\n",
    "        # create the folder with the name from above\n",
    "        os.makedirs(folder_ij, exist_ok=True)\n",
    "        # define an array for the image that shall be saved in the folder\n",
    "        image_array = class_res[i][j]\n",
    "        # scale pixel values to the range [0, 255]\n",
    "        image = Image.fromarray((image_array * 255).astype(np.uint8))\n",
    "        # save the image to the path\n",
    "        image.save(os.path.join(folder_ij, f'{class_names[i]}_{i}_{j}.jpeg'))\n",
    "        \n",
    "    # to save the support images\n",
    "    # works equivalent to the query images\n",
    "    for k in range(0, n_support):\n",
    "        folder_ik = os.path.join('preprocessed_data6', class_names[i], support_names[k])\n",
    "        os.makedirs(folder_ik, exist_ok=True)\n",
    "        image_array = class_res[i][n_query+k]\n",
    "        image = Image.fromarray((image_array * 255).astype(np.uint8))\n",
    "        image.save(os.path.join(folder_ik, f'{class_names[i]}_{i}_{k}.jpeg'))"
   ]
  }
 ],
 "metadata": {
  "kernelspec": {
   "display_name": "condaenv",
   "language": "python",
   "name": "python3"
  },
  "language_info": {
   "codemirror_mode": {
    "name": "ipython",
    "version": 3
   },
   "file_extension": ".py",
   "mimetype": "text/x-python",
   "name": "python",
   "nbconvert_exporter": "python",
   "pygments_lexer": "ipython3",
   "version": "3.11.5"
  }
 },
 "nbformat": 4,
 "nbformat_minor": 4
}
